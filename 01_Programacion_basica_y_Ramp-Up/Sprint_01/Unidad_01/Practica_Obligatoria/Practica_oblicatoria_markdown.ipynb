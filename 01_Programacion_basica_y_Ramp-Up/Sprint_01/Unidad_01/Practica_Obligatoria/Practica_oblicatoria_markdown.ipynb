{
 "cells": [
  {
   "cell_type": "markdown",
   "metadata": {},
   "source": [
    ">**Lo más importante**\n",
    ">\n",
    "> - Matemáticas\n",
    "> - Python\n",
    "> - SQL\n",
    ">\n",
    ">![logo_reshulo_de_python](./img/python.png)\n",
    ">\n",
    ">Otro tema importante de el de *Business Inteligence*\n",
    ">\n",
    ">Si tienes dudas, puedes escribirme a: [luismiguel.andujar@thebridgeschool.es](mailto://luismiguel.andujar@thebridgeschool.es/)\n",
    ">\n",
    ">Y en esta página se aprende mucho machine learning: [**Página con ML**](https://www.kaggle.com/)\n",
    ">\n",
    "> "
   ]
  },
  {
   "cell_type": "markdown",
   "metadata": {},
   "source": [
    "<center>\n",
    "\n",
    "| Ramp Up | Data Analysis | Machine Learning | Data & Business |\n",
    "|-|-|-|-|\n",
    "| Python | EDA | Supervised | Productivización |\n",
    "| Estadística | R | No supervised | Storytelling |  \n",
    "| SQL | Feat. Eng. | Deep Learning | API |\n",
    "\n",
    "</center>\n",
    "<br></br>\n",
    "\n",
    "$$\\sqrt{3x - 1} + (1 + x)^2$$"
   ]
  },
  {
   "cell_type": "markdown",
   "metadata": {},
   "source": [
    "# Prueba"
   ]
  },
  {
   "cell_type": "markdown",
   "metadata": {},
   "source": [
    "<center>\n",
    "<table style=\"background-color: white; color: black; width: 100%; border-collapse: collapse;\">\n",
    "    <thead>\n",
    "        <tr>\n",
    "            <th>Ramp Up</th>\n",
    "            <th>Data Analysis</th>\n",
    "            <th>Machine Learning</th>\n",
    "            <th>Data & Business</th>\n",
    "        </tr>\n",
    "    </thead>\n",
    "    <tbody>\n",
    "        <tr>\n",
    "            <td>Python</td>\n",
    "            <td>EDA</td>\n",
    "            <td>Supervised</td>\n",
    "            <td>Productivización</td>\n",
    "        </tr>\n",
    "        <tr style=\"background-color: #d9f1ff;\">\n",
    "            <td>Estadística</td>\n",
    "            <td>R</td>\n",
    "            <td>Non supervised</td>\n",
    "            <td>Storytelling</td>\n",
    "        </tr>\n",
    "        <tr>\n",
    "            <td>SQL</td>\n",
    "            <td>Feat. Eng.</td>\n",
    "            <td>Deep Learning</td>\n",
    "            <td>API</td>\n",
    "        </tr>\n",
    "    </tbody>\n",
    "</table>\n",
    "<br></br>\n",
    "\n",
    "$$\\sqrt{3x - 1} + (1 + x)^2$$\n",
    "</center>"
   ]
  },
  {
   "cell_type": "markdown",
   "metadata": {},
   "source": [
    "<table>\n",
    "    <thead>\n",
    "        <tr>\n",
    "            <th>Ramp Up</th>\n",
    "            <th>Data Analysis</th>\n",
    "            <th>Machine Learning</th>\n",
    "            <th>Data & Business</th>\n",
    "        </tr>\n",
    "    </thead>\n",
    "    <tbody>\n",
    "        <tr>\n",
    "            <td>Python</td>\n",
    "            <td>EDA</td>\n",
    "            <td>Supervised</td>\n",
    "            <td>Productivización</td>\n",
    "        </tr>\n",
    "        <tr style=\"background-color: #d9f1ff;\">\n",
    "            <td>Estadística</td>\n",
    "            <td>R</td>\n",
    "            <td>Non supervised</td>\n",
    "            <td>Storytelling</td>\n",
    "        </tr>\n",
    "        <tr>\n",
    "            <td>SQL</td>\n",
    "            <td>Feat. Eng.</td>\n",
    "            <td>Deep Learning</td>\n",
    "            <td>API</td>\n",
    "        </tr>\n",
    "    </tbody>\n",
    "</table>\n"
   ]
  },
  {
   "cell_type": "markdown",
   "metadata": {},
   "source": [
    "\n",
    "# Markdown Práctica Obligatoria\n",
    "\n",
    "## Ejercicio 1\n",
    "Vamos a aplicar los conocimientos adquiridos en este notebook, intentando reproducir la siguiente imagen en una celda markdown con su sintaxis. En el link que va enlazado a ``página con ML``es:``https://www.kaggle.com/``\n",
    "\n",
    "**TIP**: en [este enlace](https://www.markdownguide.org/basic-syntax/) tienes más ejemplos, por si te atascas con algo :)"
   ]
  }
 ],
 "metadata": {
  "kernelspec": {
   "display_name": "Python3119",
   "language": "python",
   "name": "python3"
  },
  "language_info": {
   "name": "python",
   "version": "3.11.9"
  }
 },
 "nbformat": 4,
 "nbformat_minor": 2
}
